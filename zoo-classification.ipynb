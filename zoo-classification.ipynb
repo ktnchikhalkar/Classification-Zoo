{
 "cells": [
  {
   "cell_type": "markdown",
   "metadata": {},
   "source": [
    "---\n",
    "## Classification practice on zoo data <br> <font size=3.4> Dataset:Zoo.csv<br><font size=2>Implement a KNN model to classify the animals in to categorie\n",
    "---"
   ]
  },
  {
   "cell_type": "code",
   "execution_count": 1,
   "metadata": {
    "_cell_guid": "b1076dfc-b9ad-4769-8c92-a6c4dae69d19",
    "_uuid": "8f2839f25d086af736a60e9eeb907d3b93b6e0e5"
   },
   "outputs": [],
   "source": [
    "from pandas import read_csv\n",
    "import numpy as np\n",
    "import pandas as pd\n",
    "import matplotlib.pyplot as plt \n",
    "from sklearn.model_selection import KFold\n",
    "from sklearn.model_selection import cross_val_score\n",
    "from sklearn.neighbors import KNeighborsClassifier\n",
    "from sklearn.linear_model import LogisticRegression\n",
    "import warnings\n",
    "from sklearn.metrics import accuracy_score\n",
    "warnings.filterwarnings('ignore')"
   ]
  },
  {
   "cell_type": "code",
   "execution_count": 2,
   "metadata": {},
   "outputs": [
    {
     "data": {
      "text/html": [
       "<div>\n",
       "<style scoped>\n",
       "    .dataframe tbody tr th:only-of-type {\n",
       "        vertical-align: middle;\n",
       "    }\n",
       "\n",
       "    .dataframe tbody tr th {\n",
       "        vertical-align: top;\n",
       "    }\n",
       "\n",
       "    .dataframe thead th {\n",
       "        text-align: right;\n",
       "    }\n",
       "</style>\n",
       "<table border=\"1\" class=\"dataframe\">\n",
       "  <thead>\n",
       "    <tr style=\"text-align: right;\">\n",
       "      <th></th>\n",
       "      <th>animal name</th>\n",
       "      <th>hair</th>\n",
       "      <th>feathers</th>\n",
       "      <th>eggs</th>\n",
       "      <th>milk</th>\n",
       "      <th>airborne</th>\n",
       "      <th>aquatic</th>\n",
       "      <th>predator</th>\n",
       "      <th>toothed</th>\n",
       "      <th>backbone</th>\n",
       "      <th>breathes</th>\n",
       "      <th>venomous</th>\n",
       "      <th>fins</th>\n",
       "      <th>legs</th>\n",
       "      <th>tail</th>\n",
       "      <th>domestic</th>\n",
       "      <th>catsize</th>\n",
       "      <th>type</th>\n",
       "    </tr>\n",
       "  </thead>\n",
       "  <tbody>\n",
       "    <tr>\n",
       "      <th>0</th>\n",
       "      <td>aardvark</td>\n",
       "      <td>1</td>\n",
       "      <td>0</td>\n",
       "      <td>0</td>\n",
       "      <td>1</td>\n",
       "      <td>0</td>\n",
       "      <td>0</td>\n",
       "      <td>1</td>\n",
       "      <td>1</td>\n",
       "      <td>1</td>\n",
       "      <td>1</td>\n",
       "      <td>0</td>\n",
       "      <td>0</td>\n",
       "      <td>4</td>\n",
       "      <td>0</td>\n",
       "      <td>0</td>\n",
       "      <td>1</td>\n",
       "      <td>1</td>\n",
       "    </tr>\n",
       "    <tr>\n",
       "      <th>1</th>\n",
       "      <td>antelope</td>\n",
       "      <td>1</td>\n",
       "      <td>0</td>\n",
       "      <td>0</td>\n",
       "      <td>1</td>\n",
       "      <td>0</td>\n",
       "      <td>0</td>\n",
       "      <td>0</td>\n",
       "      <td>1</td>\n",
       "      <td>1</td>\n",
       "      <td>1</td>\n",
       "      <td>0</td>\n",
       "      <td>0</td>\n",
       "      <td>4</td>\n",
       "      <td>1</td>\n",
       "      <td>0</td>\n",
       "      <td>1</td>\n",
       "      <td>1</td>\n",
       "    </tr>\n",
       "    <tr>\n",
       "      <th>2</th>\n",
       "      <td>bass</td>\n",
       "      <td>0</td>\n",
       "      <td>0</td>\n",
       "      <td>1</td>\n",
       "      <td>0</td>\n",
       "      <td>0</td>\n",
       "      <td>1</td>\n",
       "      <td>1</td>\n",
       "      <td>1</td>\n",
       "      <td>1</td>\n",
       "      <td>0</td>\n",
       "      <td>0</td>\n",
       "      <td>1</td>\n",
       "      <td>0</td>\n",
       "      <td>1</td>\n",
       "      <td>0</td>\n",
       "      <td>0</td>\n",
       "      <td>4</td>\n",
       "    </tr>\n",
       "    <tr>\n",
       "      <th>3</th>\n",
       "      <td>bear</td>\n",
       "      <td>1</td>\n",
       "      <td>0</td>\n",
       "      <td>0</td>\n",
       "      <td>1</td>\n",
       "      <td>0</td>\n",
       "      <td>0</td>\n",
       "      <td>1</td>\n",
       "      <td>1</td>\n",
       "      <td>1</td>\n",
       "      <td>1</td>\n",
       "      <td>0</td>\n",
       "      <td>0</td>\n",
       "      <td>4</td>\n",
       "      <td>0</td>\n",
       "      <td>0</td>\n",
       "      <td>1</td>\n",
       "      <td>1</td>\n",
       "    </tr>\n",
       "    <tr>\n",
       "      <th>4</th>\n",
       "      <td>boar</td>\n",
       "      <td>1</td>\n",
       "      <td>0</td>\n",
       "      <td>0</td>\n",
       "      <td>1</td>\n",
       "      <td>0</td>\n",
       "      <td>0</td>\n",
       "      <td>1</td>\n",
       "      <td>1</td>\n",
       "      <td>1</td>\n",
       "      <td>1</td>\n",
       "      <td>0</td>\n",
       "      <td>0</td>\n",
       "      <td>4</td>\n",
       "      <td>1</td>\n",
       "      <td>0</td>\n",
       "      <td>1</td>\n",
       "      <td>1</td>\n",
       "    </tr>\n",
       "    <tr>\n",
       "      <th>...</th>\n",
       "      <td>...</td>\n",
       "      <td>...</td>\n",
       "      <td>...</td>\n",
       "      <td>...</td>\n",
       "      <td>...</td>\n",
       "      <td>...</td>\n",
       "      <td>...</td>\n",
       "      <td>...</td>\n",
       "      <td>...</td>\n",
       "      <td>...</td>\n",
       "      <td>...</td>\n",
       "      <td>...</td>\n",
       "      <td>...</td>\n",
       "      <td>...</td>\n",
       "      <td>...</td>\n",
       "      <td>...</td>\n",
       "      <td>...</td>\n",
       "      <td>...</td>\n",
       "    </tr>\n",
       "    <tr>\n",
       "      <th>96</th>\n",
       "      <td>wallaby</td>\n",
       "      <td>1</td>\n",
       "      <td>0</td>\n",
       "      <td>0</td>\n",
       "      <td>1</td>\n",
       "      <td>0</td>\n",
       "      <td>0</td>\n",
       "      <td>0</td>\n",
       "      <td>1</td>\n",
       "      <td>1</td>\n",
       "      <td>1</td>\n",
       "      <td>0</td>\n",
       "      <td>0</td>\n",
       "      <td>2</td>\n",
       "      <td>1</td>\n",
       "      <td>0</td>\n",
       "      <td>1</td>\n",
       "      <td>1</td>\n",
       "    </tr>\n",
       "    <tr>\n",
       "      <th>97</th>\n",
       "      <td>wasp</td>\n",
       "      <td>1</td>\n",
       "      <td>0</td>\n",
       "      <td>1</td>\n",
       "      <td>0</td>\n",
       "      <td>1</td>\n",
       "      <td>0</td>\n",
       "      <td>0</td>\n",
       "      <td>0</td>\n",
       "      <td>0</td>\n",
       "      <td>1</td>\n",
       "      <td>1</td>\n",
       "      <td>0</td>\n",
       "      <td>6</td>\n",
       "      <td>0</td>\n",
       "      <td>0</td>\n",
       "      <td>0</td>\n",
       "      <td>6</td>\n",
       "    </tr>\n",
       "    <tr>\n",
       "      <th>98</th>\n",
       "      <td>wolf</td>\n",
       "      <td>1</td>\n",
       "      <td>0</td>\n",
       "      <td>0</td>\n",
       "      <td>1</td>\n",
       "      <td>0</td>\n",
       "      <td>0</td>\n",
       "      <td>1</td>\n",
       "      <td>1</td>\n",
       "      <td>1</td>\n",
       "      <td>1</td>\n",
       "      <td>0</td>\n",
       "      <td>0</td>\n",
       "      <td>4</td>\n",
       "      <td>1</td>\n",
       "      <td>0</td>\n",
       "      <td>1</td>\n",
       "      <td>1</td>\n",
       "    </tr>\n",
       "    <tr>\n",
       "      <th>99</th>\n",
       "      <td>worm</td>\n",
       "      <td>0</td>\n",
       "      <td>0</td>\n",
       "      <td>1</td>\n",
       "      <td>0</td>\n",
       "      <td>0</td>\n",
       "      <td>0</td>\n",
       "      <td>0</td>\n",
       "      <td>0</td>\n",
       "      <td>0</td>\n",
       "      <td>1</td>\n",
       "      <td>0</td>\n",
       "      <td>0</td>\n",
       "      <td>0</td>\n",
       "      <td>0</td>\n",
       "      <td>0</td>\n",
       "      <td>0</td>\n",
       "      <td>7</td>\n",
       "    </tr>\n",
       "    <tr>\n",
       "      <th>100</th>\n",
       "      <td>wren</td>\n",
       "      <td>0</td>\n",
       "      <td>1</td>\n",
       "      <td>1</td>\n",
       "      <td>0</td>\n",
       "      <td>1</td>\n",
       "      <td>0</td>\n",
       "      <td>0</td>\n",
       "      <td>0</td>\n",
       "      <td>1</td>\n",
       "      <td>1</td>\n",
       "      <td>0</td>\n",
       "      <td>0</td>\n",
       "      <td>2</td>\n",
       "      <td>1</td>\n",
       "      <td>0</td>\n",
       "      <td>0</td>\n",
       "      <td>2</td>\n",
       "    </tr>\n",
       "  </tbody>\n",
       "</table>\n",
       "<p>101 rows × 18 columns</p>\n",
       "</div>"
      ],
      "text/plain": [
       "    animal name  hair  feathers  eggs  milk  airborne  aquatic  predator  \\\n",
       "0      aardvark     1         0     0     1         0        0         1   \n",
       "1      antelope     1         0     0     1         0        0         0   \n",
       "2          bass     0         0     1     0         0        1         1   \n",
       "3          bear     1         0     0     1         0        0         1   \n",
       "4          boar     1         0     0     1         0        0         1   \n",
       "..          ...   ...       ...   ...   ...       ...      ...       ...   \n",
       "96      wallaby     1         0     0     1         0        0         0   \n",
       "97         wasp     1         0     1     0         1        0         0   \n",
       "98         wolf     1         0     0     1         0        0         1   \n",
       "99         worm     0         0     1     0         0        0         0   \n",
       "100        wren     0         1     1     0         1        0         0   \n",
       "\n",
       "     toothed  backbone  breathes  venomous  fins  legs  tail  domestic  \\\n",
       "0          1         1         1         0     0     4     0         0   \n",
       "1          1         1         1         0     0     4     1         0   \n",
       "2          1         1         0         0     1     0     1         0   \n",
       "3          1         1         1         0     0     4     0         0   \n",
       "4          1         1         1         0     0     4     1         0   \n",
       "..       ...       ...       ...       ...   ...   ...   ...       ...   \n",
       "96         1         1         1         0     0     2     1         0   \n",
       "97         0         0         1         1     0     6     0         0   \n",
       "98         1         1         1         0     0     4     1         0   \n",
       "99         0         0         1         0     0     0     0         0   \n",
       "100        0         1         1         0     0     2     1         0   \n",
       "\n",
       "     catsize  type  \n",
       "0          1     1  \n",
       "1          1     1  \n",
       "2          0     4  \n",
       "3          1     1  \n",
       "4          1     1  \n",
       "..       ...   ...  \n",
       "96         1     1  \n",
       "97         0     6  \n",
       "98         1     1  \n",
       "99         0     7  \n",
       "100        0     2  \n",
       "\n",
       "[101 rows x 18 columns]"
      ]
     },
     "execution_count": 2,
     "metadata": {},
     "output_type": "execute_result"
    }
   ],
   "source": [
    "#Loading the dataset\n",
    "df = pd.read_csv('../Ketan/Datasets/Zoo.csv')\n",
    "df"
   ]
  },
  {
   "cell_type": "code",
   "execution_count": 3,
   "metadata": {},
   "outputs": [
    {
     "name": "stdout",
     "output_type": "stream",
     "text": [
      "<class 'pandas.core.frame.DataFrame'>\n",
      "RangeIndex: 101 entries, 0 to 100\n",
      "Data columns (total 18 columns):\n",
      " #   Column       Non-Null Count  Dtype \n",
      "---  ------       --------------  ----- \n",
      " 0   animal name  101 non-null    object\n",
      " 1   hair         101 non-null    int64 \n",
      " 2   feathers     101 non-null    int64 \n",
      " 3   eggs         101 non-null    int64 \n",
      " 4   milk         101 non-null    int64 \n",
      " 5   airborne     101 non-null    int64 \n",
      " 6   aquatic      101 non-null    int64 \n",
      " 7   predator     101 non-null    int64 \n",
      " 8   toothed      101 non-null    int64 \n",
      " 9   backbone     101 non-null    int64 \n",
      " 10  breathes     101 non-null    int64 \n",
      " 11  venomous     101 non-null    int64 \n",
      " 12  fins         101 non-null    int64 \n",
      " 13  legs         101 non-null    int64 \n",
      " 14  tail         101 non-null    int64 \n",
      " 15  domestic     101 non-null    int64 \n",
      " 16  catsize      101 non-null    int64 \n",
      " 17  type         101 non-null    int64 \n",
      "dtypes: int64(17), object(1)\n",
      "memory usage: 14.3+ KB\n"
     ]
    }
   ],
   "source": [
    "#Checking for null values & data types\n",
    "df.info()"
   ]
  },
  {
   "cell_type": "markdown",
   "metadata": {},
   "source": [
    "### Since number of columns are more, let's use PCA"
   ]
  },
  {
   "cell_type": "code",
   "execution_count": 4,
   "metadata": {},
   "outputs": [
    {
     "data": {
      "text/plain": [
       "array([[ 1.16139451, -0.49690399, -1.18522652, ..., -1.69841555,\n",
       "        -0.38435306,  1.13818037],\n",
       "       [ 1.16139451, -0.49690399, -1.18522652, ...,  0.58878406,\n",
       "        -0.38435306,  1.13818037],\n",
       "       [-0.86103386, -0.49690399,  0.84372057, ...,  0.58878406,\n",
       "        -0.38435306, -0.87859537],\n",
       "       ...,\n",
       "       [ 1.16139451, -0.49690399, -1.18522652, ...,  0.58878406,\n",
       "        -0.38435306,  1.13818037],\n",
       "       [-0.86103386, -0.49690399,  0.84372057, ..., -1.69841555,\n",
       "        -0.38435306, -0.87859537],\n",
       "       [-0.86103386,  2.01246118,  0.84372057, ...,  0.58878406,\n",
       "        -0.38435306, -0.87859537]])"
      ]
     },
     "execution_count": 4,
     "metadata": {},
     "output_type": "execute_result"
    }
   ],
   "source": [
    "#Scaling the data (leaving out the target variable, and the taking only the numerical data for input)\n",
    "df1= df.iloc[:,1:17]\n",
    "\n",
    "from sklearn.preprocessing import StandardScaler\n",
    "sc = StandardScaler()\n",
    "\n",
    "sc.fit(df1)\n",
    "df_norm = sc.transform(df1)\n",
    "df_norm                     #Normalised dataset"
   ]
  },
  {
   "cell_type": "code",
   "execution_count": 6,
   "metadata": {},
   "outputs": [
    {
     "data": {
      "text/plain": [
       "array([[-2.53525586, -0.26027764,  1.24184209, ...,  0.46003753,\n",
       "         0.13353213,  0.09036509],\n",
       "       [-2.87735435, -0.40154709, -0.1000181 , ..., -0.01872462,\n",
       "        -0.02855448, -0.06995038],\n",
       "       [ 1.76100295,  3.70559205, -0.18010521, ...,  0.24519814,\n",
       "        -0.00710216,  0.03432821],\n",
       "       ...,\n",
       "       [-2.81897453,  0.10708083,  0.13685166, ..., -0.03421561,\n",
       "        -0.04553159, -0.02909899],\n",
       "       [ 2.01881534, -1.25779288,  1.40920411, ..., -0.50614542,\n",
       "        -0.22293974,  0.0170063 ],\n",
       "       [ 2.04997054, -1.90737976, -2.49732162, ...,  0.23108799,\n",
       "         0.13215847, -0.03497545]])"
      ]
     },
     "execution_count": 6,
     "metadata": {},
     "output_type": "execute_result"
    }
   ],
   "source": [
    "from sklearn.decomposition import PCA\n",
    "\n",
    "pca = PCA(n_components = 16)\n",
    "pca_values = pca.fit_transform(df_norm)\n",
    "pca_values"
   ]
  },
  {
   "cell_type": "code",
   "execution_count": 7,
   "metadata": {},
   "outputs": [
    {
     "data": {
      "text/plain": [
       "array([0.29191091, 0.20882904, 0.14778223, 0.07693359, 0.05962114,\n",
       "       0.04662709, 0.03517581, 0.03202669, 0.02798703, 0.02374091,\n",
       "       0.0173489 , 0.01317047, 0.00809636, 0.00737139, 0.00226697,\n",
       "       0.00111146])"
      ]
     },
     "execution_count": 7,
     "metadata": {},
     "output_type": "execute_result"
    }
   ],
   "source": [
    "# The amount of variance that each PCA explains is \n",
    "var = pca.explained_variance_ratio_\n",
    "var"
   ]
  },
  {
   "cell_type": "code",
   "execution_count": 8,
   "metadata": {},
   "outputs": [
    {
     "data": {
      "text/plain": [
       "array([29.19, 50.07, 64.85, 72.54, 78.5 , 83.16, 86.68, 89.88, 92.68,\n",
       "       95.05, 96.78, 98.1 , 98.91, 99.65, 99.88, 99.99])"
      ]
     },
     "execution_count": 8,
     "metadata": {},
     "output_type": "execute_result"
    }
   ],
   "source": [
    "# Cumulative variance \n",
    "var1 = np.cumsum(np.round(var,decimals = 4)*100)\n",
    "var1"
   ]
  },
  {
   "cell_type": "code",
   "execution_count": 11,
   "metadata": {},
   "outputs": [
    {
     "data": {
      "image/png": "[encoded data removed]",
      "text/plain": [
       "<Figure size 864x288 with 1 Axes>"
      ]
     },
     "metadata": {
      "needs_background": "light"
     },
     "output_type": "display_data"
    }
   ],
   "source": [
    "# Variance plot for PCA components obtained\n",
    "plt.figure(figsize=(12,4))\n",
    "plt.plot(var1,color=\"red\");"
   ]
  },
  {
   "cell_type": "markdown",
   "metadata": {},
   "source": [
    "Selecting first 14 PCAs out of total 16"
   ]
  },
  {
   "cell_type": "code",
   "execution_count": 14,
   "metadata": {},
   "outputs": [
    {
     "data": {
      "text/html": [
       "<div>\n",
       "<style scoped>\n",
       "    .dataframe tbody tr th:only-of-type {\n",
       "        vertical-align: middle;\n",
       "    }\n",
       "\n",
       "    .dataframe tbody tr th {\n",
       "        vertical-align: top;\n",
       "    }\n",
       "\n",
       "    .dataframe thead th {\n",
       "        text-align: right;\n",
       "    }\n",
       "</style>\n",
       "<table border=\"1\" class=\"dataframe\">\n",
       "  <thead>\n",
       "    <tr style=\"text-align: right;\">\n",
       "      <th></th>\n",
       "      <th>pc1</th>\n",
       "      <th>pc2</th>\n",
       "      <th>pc3</th>\n",
       "      <th>pc4</th>\n",
       "      <th>pc5</th>\n",
       "      <th>pc6</th>\n",
       "      <th>pc7</th>\n",
       "      <th>pc8</th>\n",
       "      <th>pc9</th>\n",
       "      <th>pc10</th>\n",
       "      <th>pc11</th>\n",
       "      <th>pc12</th>\n",
       "      <th>pc13</th>\n",
       "      <th>pc14</th>\n",
       "      <th>type</th>\n",
       "    </tr>\n",
       "  </thead>\n",
       "  <tbody>\n",
       "    <tr>\n",
       "      <th>0</th>\n",
       "      <td>-2.535256</td>\n",
       "      <td>-0.260278</td>\n",
       "      <td>1.241842</td>\n",
       "      <td>-1.065734</td>\n",
       "      <td>-0.296433</td>\n",
       "      <td>0.261767</td>\n",
       "      <td>-0.041032</td>\n",
       "      <td>-0.301902</td>\n",
       "      <td>1.287573</td>\n",
       "      <td>0.250864</td>\n",
       "      <td>-0.137726</td>\n",
       "      <td>-0.725658</td>\n",
       "      <td>-0.534541</td>\n",
       "      <td>0.460038</td>\n",
       "      <td>1</td>\n",
       "    </tr>\n",
       "    <tr>\n",
       "      <th>1</th>\n",
       "      <td>-2.877354</td>\n",
       "      <td>-0.401547</td>\n",
       "      <td>-0.100018</td>\n",
       "      <td>-0.014988</td>\n",
       "      <td>-0.308969</td>\n",
       "      <td>-0.627116</td>\n",
       "      <td>0.796777</td>\n",
       "      <td>0.345511</td>\n",
       "      <td>-0.552024</td>\n",
       "      <td>0.192473</td>\n",
       "      <td>0.211313</td>\n",
       "      <td>-0.145765</td>\n",
       "      <td>-0.087887</td>\n",
       "      <td>-0.018725</td>\n",
       "      <td>1</td>\n",
       "    </tr>\n",
       "    <tr>\n",
       "      <th>2</th>\n",
       "      <td>1.761003</td>\n",
       "      <td>3.705592</td>\n",
       "      <td>-0.180105</td>\n",
       "      <td>0.578327</td>\n",
       "      <td>-0.327066</td>\n",
       "      <td>-0.379035</td>\n",
       "      <td>-0.560420</td>\n",
       "      <td>-0.200556</td>\n",
       "      <td>-0.158270</td>\n",
       "      <td>-0.511661</td>\n",
       "      <td>-0.282661</td>\n",
       "      <td>-0.108516</td>\n",
       "      <td>0.090267</td>\n",
       "      <td>0.245198</td>\n",
       "      <td>4</td>\n",
       "    </tr>\n",
       "    <tr>\n",
       "      <th>3</th>\n",
       "      <td>-2.535256</td>\n",
       "      <td>-0.260278</td>\n",
       "      <td>1.241842</td>\n",
       "      <td>-1.065734</td>\n",
       "      <td>-0.296433</td>\n",
       "      <td>0.261767</td>\n",
       "      <td>-0.041032</td>\n",
       "      <td>-0.301902</td>\n",
       "      <td>1.287573</td>\n",
       "      <td>0.250864</td>\n",
       "      <td>-0.137726</td>\n",
       "      <td>-0.725658</td>\n",
       "      <td>-0.534541</td>\n",
       "      <td>0.460038</td>\n",
       "      <td>1</td>\n",
       "    </tr>\n",
       "    <tr>\n",
       "      <th>4</th>\n",
       "      <td>-2.818975</td>\n",
       "      <td>0.107081</td>\n",
       "      <td>0.136852</td>\n",
       "      <td>-1.178338</td>\n",
       "      <td>0.147460</td>\n",
       "      <td>0.069023</td>\n",
       "      <td>-0.144118</td>\n",
       "      <td>0.065897</td>\n",
       "      <td>-0.119328</td>\n",
       "      <td>-0.445570</td>\n",
       "      <td>-0.117144</td>\n",
       "      <td>-0.159293</td>\n",
       "      <td>0.036293</td>\n",
       "      <td>-0.034216</td>\n",
       "      <td>1</td>\n",
       "    </tr>\n",
       "    <tr>\n",
       "      <th>...</th>\n",
       "      <td>...</td>\n",
       "      <td>...</td>\n",
       "      <td>...</td>\n",
       "      <td>...</td>\n",
       "      <td>...</td>\n",
       "      <td>...</td>\n",
       "      <td>...</td>\n",
       "      <td>...</td>\n",
       "      <td>...</td>\n",
       "      <td>...</td>\n",
       "      <td>...</td>\n",
       "      <td>...</td>\n",
       "      <td>...</td>\n",
       "      <td>...</td>\n",
       "      <td>...</td>\n",
       "    </tr>\n",
       "    <tr>\n",
       "      <th>96</th>\n",
       "      <td>-2.764120</td>\n",
       "      <td>-0.065219</td>\n",
       "      <td>-0.409317</td>\n",
       "      <td>0.151818</td>\n",
       "      <td>-0.235706</td>\n",
       "      <td>-0.786741</td>\n",
       "      <td>0.910330</td>\n",
       "      <td>0.476138</td>\n",
       "      <td>0.099124</td>\n",
       "      <td>0.048053</td>\n",
       "      <td>0.514294</td>\n",
       "      <td>-0.101619</td>\n",
       "      <td>0.153061</td>\n",
       "      <td>-0.265474</td>\n",
       "      <td>1</td>\n",
       "    </tr>\n",
       "    <tr>\n",
       "      <th>97</th>\n",
       "      <td>1.667523</td>\n",
       "      <td>-3.219581</td>\n",
       "      <td>2.723445</td>\n",
       "      <td>0.743239</td>\n",
       "      <td>2.290063</td>\n",
       "      <td>-0.896837</td>\n",
       "      <td>1.661100</td>\n",
       "      <td>-1.217305</td>\n",
       "      <td>-0.182554</td>\n",
       "      <td>-0.242038</td>\n",
       "      <td>-0.558083</td>\n",
       "      <td>-0.298778</td>\n",
       "      <td>0.514703</td>\n",
       "      <td>0.539334</td>\n",
       "      <td>6</td>\n",
       "    </tr>\n",
       "    <tr>\n",
       "      <th>98</th>\n",
       "      <td>-2.818975</td>\n",
       "      <td>0.107081</td>\n",
       "      <td>0.136852</td>\n",
       "      <td>-1.178338</td>\n",
       "      <td>0.147460</td>\n",
       "      <td>0.069023</td>\n",
       "      <td>-0.144118</td>\n",
       "      <td>0.065897</td>\n",
       "      <td>-0.119328</td>\n",
       "      <td>-0.445570</td>\n",
       "      <td>-0.117144</td>\n",
       "      <td>-0.159293</td>\n",
       "      <td>0.036293</td>\n",
       "      <td>-0.034216</td>\n",
       "      <td>1</td>\n",
       "    </tr>\n",
       "    <tr>\n",
       "      <th>99</th>\n",
       "      <td>2.018815</td>\n",
       "      <td>-1.257793</td>\n",
       "      <td>1.409204</td>\n",
       "      <td>0.715264</td>\n",
       "      <td>-1.014103</td>\n",
       "      <td>-0.963336</td>\n",
       "      <td>0.479793</td>\n",
       "      <td>1.411127</td>\n",
       "      <td>1.790623</td>\n",
       "      <td>-0.041930</td>\n",
       "      <td>0.337558</td>\n",
       "      <td>0.855498</td>\n",
       "      <td>0.513896</td>\n",
       "      <td>-0.506145</td>\n",
       "      <td>7</td>\n",
       "    </tr>\n",
       "    <tr>\n",
       "      <th>100</th>\n",
       "      <td>2.049971</td>\n",
       "      <td>-1.907380</td>\n",
       "      <td>-2.497322</td>\n",
       "      <td>0.044589</td>\n",
       "      <td>-0.031691</td>\n",
       "      <td>-0.777324</td>\n",
       "      <td>0.176177</td>\n",
       "      <td>0.008120</td>\n",
       "      <td>-0.030686</td>\n",
       "      <td>-0.119140</td>\n",
       "      <td>0.149378</td>\n",
       "      <td>-0.140434</td>\n",
       "      <td>-0.283943</td>\n",
       "      <td>0.231088</td>\n",
       "      <td>2</td>\n",
       "    </tr>\n",
       "  </tbody>\n",
       "</table>\n",
       "<p>101 rows × 15 columns</p>\n",
       "</div>"
      ],
      "text/plain": [
       "          pc1       pc2       pc3       pc4       pc5       pc6       pc7  \\\n",
       "0   -2.535256 -0.260278  1.241842 -1.065734 -0.296433  0.261767 -0.041032   \n",
       "1   -2.877354 -0.401547 -0.100018 -0.014988 -0.308969 -0.627116  0.796777   \n",
       "2    1.761003  3.705592 -0.180105  0.578327 -0.327066 -0.379035 -0.560420   \n",
       "3   -2.535256 -0.260278  1.241842 -1.065734 -0.296433  0.261767 -0.041032   \n",
       "4   -2.818975  0.107081  0.136852 -1.178338  0.147460  0.069023 -0.144118   \n",
       "..        ...       ...       ...       ...       ...       ...       ...   \n",
       "96  -2.764120 -0.065219 -0.409317  0.151818 -0.235706 -0.786741  0.910330   \n",
       "97   1.667523 -3.219581  2.723445  0.743239  2.290063 -0.896837  1.661100   \n",
       "98  -2.818975  0.107081  0.136852 -1.178338  0.147460  0.069023 -0.144118   \n",
       "99   2.018815 -1.257793  1.409204  0.715264 -1.014103 -0.963336  0.479793   \n",
       "100  2.049971 -1.907380 -2.497322  0.044589 -0.031691 -0.777324  0.176177   \n",
       "\n",
       "          pc8       pc9      pc10      pc11      pc12      pc13      pc14  \\\n",
       "0   -0.301902  1.287573  0.250864 -0.137726 -0.725658 -0.534541  0.460038   \n",
       "1    0.345511 -0.552024  0.192473  0.211313 -0.145765 -0.087887 -0.018725   \n",
       "2   -0.200556 -0.158270 -0.511661 -0.282661 -0.108516  0.090267  0.245198   \n",
       "3   -0.301902  1.287573  0.250864 -0.137726 -0.725658 -0.534541  0.460038   \n",
       "4    0.065897 -0.119328 -0.445570 -0.117144 -0.159293  0.036293 -0.034216   \n",
       "..        ...       ...       ...       ...       ...       ...       ...   \n",
       "96   0.476138  0.099124  0.048053  0.514294 -0.101619  0.153061 -0.265474   \n",
       "97  -1.217305 -0.182554 -0.242038 -0.558083 -0.298778  0.514703  0.539334   \n",
       "98   0.065897 -0.119328 -0.445570 -0.117144 -0.159293  0.036293 -0.034216   \n",
       "99   1.411127  1.790623 -0.041930  0.337558  0.855498  0.513896 -0.506145   \n",
       "100  0.008120 -0.030686 -0.119140  0.149378 -0.140434 -0.283943  0.231088   \n",
       "\n",
       "     type  \n",
       "0       1  \n",
       "1       1  \n",
       "2       4  \n",
       "3       1  \n",
       "4       1  \n",
       "..    ...  \n",
       "96      1  \n",
       "97      6  \n",
       "98      1  \n",
       "99      7  \n",
       "100     2  \n",
       "\n",
       "[101 rows x 15 columns]"
      ]
     },
     "execution_count": 14,
     "metadata": {},
     "output_type": "execute_result"
    }
   ],
   "source": [
    "finalDf = pd.concat([pd.DataFrame(pca_values[:,0:14],columns=['pc1','pc2','pc3','pc4','pc5','pc6','pc7',\n",
    "                                                             'pc8','pc9','pc10','pc11','pc12','pc13','pc14']),\n",
    "                     df[['type']]], axis = 1)\n",
    "finalDf"
   ]
  },
  {
   "cell_type": "code",
   "execution_count": 15,
   "metadata": {},
   "outputs": [],
   "source": [
    "array = finalDf.values\n",
    "X = array[:,0:14]\n",
    "Y = array[:,14]"
   ]
  },
  {
   "cell_type": "markdown",
   "metadata": {},
   "source": [
    "### Selecting the model validation technique"
   ]
  },
  {
   "cell_type": "markdown",
   "metadata": {},
   "source": [
    "### Trial 1 : Train Test split approach"
   ]
  },
  {
   "cell_type": "code",
   "execution_count": 20,
   "metadata": {},
   "outputs": [
    {
     "data": {
      "text/plain": [
       "0.9677"
      ]
     },
     "execution_count": 20,
     "metadata": {},
     "output_type": "execute_result"
    }
   ],
   "source": [
    "from sklearn.model_selection import train_test_split\n",
    "import numpy as np\n",
    "test_size = 0.3\n",
    "seed = 7\n",
    "X_train, X_test, Y_train, Y_test = train_test_split(X, Y, test_size=test_size, random_state=seed)\n",
    "model = LogisticRegression()\n",
    "model.fit(X_train, Y_train)\n",
    "result = model.score(X_test, Y_test)\n",
    "np.round(result, 4)"
   ]
  },
  {
   "cell_type": "markdown",
   "metadata": {},
   "source": [
    "### Trial 2 : Cross Validation approach"
   ]
  },
  {
   "cell_type": "code",
   "execution_count": 24,
   "metadata": {},
   "outputs": [
    {
     "name": "stdout",
     "output_type": "stream",
     "text": [
      "Result: 0.96 \n",
      " \n",
      " Standard dev: 0.0663\n"
     ]
    }
   ],
   "source": [
    "from sklearn.model_selection import KFold\n",
    "from sklearn.model_selection import cross_val_score\n",
    "import numpy as np\n",
    "num_folds = 10\n",
    "seed = 7\n",
    "kfold = KFold(n_splits=num_folds, random_state=seed)\n",
    "model = LogisticRegression(max_iter=400)\n",
    "results = cross_val_score(model, X, Y, cv=kfold)\n",
    "print('Result:',np.round(results.mean(),4),'\\n','\\n','Standard dev:',np.round(results.std(),4))"
   ]
  },
  {
   "cell_type": "markdown",
   "metadata": {},
   "source": [
    "### Trial 3 : Leave One Out Cross Validation approach"
   ]
  },
  {
   "cell_type": "code",
   "execution_count": 22,
   "metadata": {},
   "outputs": [
    {
     "name": "stdout",
     "output_type": "stream",
     "text": [
      "Result: 0.9604 \n",
      " \n",
      " Standard dev: 0.195\n"
     ]
    }
   ],
   "source": [
    "from sklearn.model_selection import LeaveOneOut\n",
    "from sklearn.model_selection import cross_val_score\n",
    "loocv = LeaveOneOut()\n",
    "model = LogisticRegression(max_iter=400)\n",
    "results = cross_val_score(model, X, Y, cv=loocv)\n",
    "print('Result:',np.round(results.mean(),4),'\\n','\\n','Standard dev:',np.round(results.std(),4))"
   ]
  },
  {
   "cell_type": "markdown",
   "metadata": {},
   "source": [
    "#### Hence, Train Test Split is the best model vaidation technique here, so we'll proceed with that"
   ]
  },
  {
   "cell_type": "markdown",
   "metadata": {},
   "source": [
    "## KNN Classification <br><font size=2>Let's use Grid search CV to find out best value for K"
   ]
  },
  {
   "cell_type": "code",
   "execution_count": 25,
   "metadata": {},
   "outputs": [
    {
     "name": "stdout",
     "output_type": "stream",
     "text": [
      "0.9504761904761905\n",
      "{'n_neighbors': 1}\n"
     ]
    }
   ],
   "source": [
    "# Grid Search for Algorithm Tuning\n",
    "import numpy\n",
    "from pandas import read_csv\n",
    "from sklearn.neighbors import KNeighborsClassifier\n",
    "from sklearn.model_selection import GridSearchCV\n",
    "\n",
    "n_neighbors = numpy.array(range(1,40))\n",
    "param_grid = dict(n_neighbors=n_neighbors)\n",
    "\n",
    "model = KNeighborsClassifier()\n",
    "grid = GridSearchCV(estimator=model, param_grid=param_grid)\n",
    "grid.fit(X, Y)\n",
    "\n",
    "print(grid.best_score_)\n",
    "print(grid.best_params_)"
   ]
  },
  {
   "cell_type": "code",
   "execution_count": 26,
   "metadata": {},
   "outputs": [
    {
     "data": {
      "image/png": "[encoded data removed]",
      "text/plain": [
       "<Figure size 1080x504 with 1 Axes>"
      ]
     },
     "metadata": {
      "needs_background": "light"
     },
     "output_type": "display_data"
    }
   ],
   "source": [
    "import matplotlib.pyplot as plt \n",
    "%matplotlib inline\n",
    "# choose k between 1 to 40\n",
    "k_range = range(1, 40)\n",
    "k_scores = []\n",
    "# use iteration to caclulator different k in models, then return the average accuracy based on the cross validation\n",
    "for k in k_range:\n",
    "    knn = KNeighborsClassifier(n_neighbors=k)\n",
    "    scores = cross_val_score(knn, X, Y, cv=5)\n",
    "    k_scores.append(scores.mean())\n",
    "# plot to see clearly\n",
    "plt.figure(figsize=(15,7))\n",
    "plt.plot(k_range, k_scores)\n",
    "plt.axhline(y=0.9504761904761905, color='r', linestyle='--')\n",
    "plt.axvline(x=1, color='r', linestyle='--')\n",
    "plt.xlabel('Value of K for KNN')\n",
    "plt.ylabel('Cross-Validated Accuracy')\n",
    "plt.show()"
   ]
  },
  {
   "cell_type": "markdown",
   "metadata": {},
   "source": [
    "#### Hence K=1 is the best value, so we'll make the model using that."
   ]
  },
  {
   "cell_type": "code",
   "execution_count": 28,
   "metadata": {},
   "outputs": [
    {
     "name": "stdout",
     "output_type": "stream",
     "text": [
      "Accuracy = 93.54838709677419\n"
     ]
    }
   ],
   "source": [
    "#KNN Classification\n",
    "model = KNeighborsClassifier(n_neighbors=1) #making the model\n",
    "model.fit(X_train , Y_train) #training the model\n",
    "y_pred = model.predict(X_test) #predicting on the test dataset\n",
    "acc = accuracy_score(Y_test, y_pred) * 100 \n",
    "print(\"Accuracy =\", acc)"
   ]
  },
  {
   "cell_type": "markdown",
   "metadata": {},
   "source": [
    "## SVM Classification"
   ]
  },
  {
   "cell_type": "code",
   "execution_count": 29,
   "metadata": {},
   "outputs": [],
   "source": [
    "# SVM Classification\n",
    "import pandas as pd\n",
    "import numpy as np\n",
    "from sklearn.feature_extraction.text import CountVectorizer, TfidfVectorizer\n",
    "from sklearn.preprocessing import StandardScaler\n",
    "\n",
    "from sklearn import svm\n",
    "from sklearn.svm import SVC\n",
    "from sklearn.model_selection import GridSearchCV\n",
    "from sklearn.metrics import classification_report\n",
    "\n",
    "\n",
    "from sklearn.metrics import accuracy_score, confusion_matrix\n",
    "from sklearn.model_selection import train_test_split, cross_val_score"
   ]
  },
  {
   "cell_type": "markdown",
   "metadata": {},
   "source": [
    "Let's use Grid search CV to find out best value for params"
   ]
  },
  {
   "cell_type": "code",
   "execution_count": 30,
   "metadata": {},
   "outputs": [
    {
     "data": {
      "text/plain": [
       "({'C': 1, 'kernel': 'linear'}, 0.97)"
      ]
     },
     "execution_count": 30,
     "metadata": {},
     "output_type": "execute_result"
    }
   ],
   "source": [
    "clf = SVC()\n",
    "param_grid = [{'kernel':['rbf'],'gamma':[0.9,0.8,0.7,0.6,0.5,0.4,0.3,0.2,0.1],'C':[1,10,100,1000] },\n",
    "             {'kernel':['linear'],'C':[1,10,100,1000]}]\n",
    "gsv = GridSearchCV(clf,param_grid,cv=10,n_jobs=-1)\n",
    "gsv.fit(X,Y)\n",
    "\n",
    "gsv.best_params_ , gsv.best_score_ "
   ]
  },
  {
   "cell_type": "code",
   "execution_count": 31,
   "metadata": {},
   "outputs": [
    {
     "name": "stdout",
     "output_type": "stream",
     "text": [
      "Accuracy = 96.7741935483871\n"
     ]
    }
   ],
   "source": [
    "#SVM Clasification\n",
    "clf = SVC(C= 1, kernel='linear') #building the model\n",
    "clf.fit(X_train , Y_train) #training the model\n",
    "y_pred = clf.predict(X_test) #predicting on test dataset\n",
    "acc = accuracy_score(Y_test, y_pred) * 100\n",
    "print(\"Accuracy =\", acc)"
   ]
  },
  {
   "cell_type": "markdown",
   "metadata": {},
   "source": [
    "### Now, let's try some Ensemble methods to see if we can further increase the accuracy of the model"
   ]
  },
  {
   "cell_type": "markdown",
   "metadata": {},
   "source": [
    "### Trial-1: Bagging"
   ]
  },
  {
   "cell_type": "code",
   "execution_count": 32,
   "metadata": {},
   "outputs": [
    {
     "name": "stdout",
     "output_type": "stream",
     "text": [
      "Accuracy: 96.7741935483871\n"
     ]
    }
   ],
   "source": [
    "# Bagged Decision Trees for Classification\n",
    "from sklearn.model_selection import KFold\n",
    "from sklearn.model_selection import cross_val_score\n",
    "from sklearn.ensemble import BaggingClassifier\n",
    "from sklearn.tree import DecisionTreeClassifier\n",
    "\n",
    "seed = 7\n",
    "cart = DecisionTreeClassifier()\n",
    "num_trees = 100\n",
    "model = BaggingClassifier(base_estimator=cart, n_estimators=num_trees, random_state=seed)\n",
    "model.fit(X_train,Y_train)\n",
    "y_pred = model.predict(X_test)\n",
    "acc = accuracy_score(Y_test, y_pred)*100\n",
    "print('Accuracy:',acc)"
   ]
  },
  {
   "cell_type": "markdown",
   "metadata": {},
   "source": [
    "### Trial-2: Random Forest"
   ]
  },
  {
   "cell_type": "code",
   "execution_count": 34,
   "metadata": {},
   "outputs": [
    {
     "name": "stdout",
     "output_type": "stream",
     "text": [
      "Accuracy: 96.7741935483871\n"
     ]
    }
   ],
   "source": [
    "# Random Forest Classification\n",
    "\n",
    "from sklearn.ensemble import RandomForestClassifier\n",
    "\n",
    "num_trees = 100\n",
    "max_features = 3\n",
    "model = RandomForestClassifier(n_estimators=num_trees, max_features=max_features)\n",
    "model.fit(X_train,Y_train)\n",
    "y_pred = model.predict(X_test)\n",
    "acc = accuracy_score(Y_test, y_pred)*100\n",
    "print('Accuracy:',acc)"
   ]
  },
  {
   "cell_type": "markdown",
   "metadata": {},
   "source": [
    "### Trial-3: Boosting"
   ]
  },
  {
   "cell_type": "code",
   "execution_count": 36,
   "metadata": {},
   "outputs": [
    {
     "name": "stdout",
     "output_type": "stream",
     "text": [
      "Accuracy: 87.09677419354838\n"
     ]
    }
   ],
   "source": [
    "# AdaBoost Classification\n",
    "\n",
    "from sklearn.ensemble import AdaBoostClassifier\n",
    "num_trees = 100\n",
    "seed=7\n",
    "\n",
    "model = AdaBoostClassifier(n_estimators=num_trees, random_state=seed)\n",
    "model.fit(X_train,Y_train)\n",
    "y_pred = model.predict(X_test)\n",
    "acc = accuracy_score(Y_test, y_pred)*100\n",
    "print('Accuracy:',acc)"
   ]
  },
  {
   "cell_type": "markdown",
   "metadata": {},
   "source": [
    "### Trial-4: Stacking"
   ]
  },
  {
   "cell_type": "code",
   "execution_count": 38,
   "metadata": {},
   "outputs": [],
   "source": [
    "# Stacking Ensemble for Classification\n",
    "from sklearn.tree import DecisionTreeClassifier\n",
    "from sklearn.svm import SVC\n",
    "from sklearn.ensemble import VotingClassifier"
   ]
  },
  {
   "cell_type": "code",
   "execution_count": 39,
   "metadata": {},
   "outputs": [
    {
     "name": "stdout",
     "output_type": "stream",
     "text": [
      "Accuracy: 93.54838709677419\n"
     ]
    }
   ],
   "source": [
    "# create the sub models\n",
    "estimators = []\n",
    "model = LogisticRegression(max_iter=500)\n",
    "estimators.append(('logistic', model))\n",
    "model = DecisionTreeClassifier()\n",
    "estimators.append(('cart', model))\n",
    "model = SVC()\n",
    "estimators.append(('svm', model))\n",
    "\n",
    "# create the ensemble model\n",
    "ensemble = VotingClassifier(estimators)\n",
    "ensemble.fit(X_train,Y_train)\n",
    "y_pred = ensemble.predict(X_test)\n",
    "acc = accuracy_score(Y_test, y_pred)*100\n",
    "print('Accuracy:',acc)"
   ]
  },
  {
   "cell_type": "code",
   "execution_count": 40,
   "metadata": {},
   "outputs": [
    {
     "name": "stdout",
     "output_type": "stream",
     "text": [
      "Accuracy: 96.7741935483871\n"
     ]
    }
   ],
   "source": [
    "# create the sub models\n",
    "estimators = []\n",
    "model = LogisticRegression(max_iter=500)\n",
    "estimators.append(('logistic', model))\n",
    "model = DecisionTreeClassifier()\n",
    "estimators.append(('cart', model))\n",
    "model = AdaBoostClassifier(n_estimators=num_trees, random_state=seed)\n",
    "estimators.append(('Boosting', model))\n",
    "\n",
    "# create the ensemble model\n",
    "ensemble = VotingClassifier(estimators)\n",
    "ensemble.fit(X_train,Y_train)\n",
    "y_pred = ensemble.predict(X_test)\n",
    "acc = accuracy_score(Y_test, y_pred)*100\n",
    "print('Accuracy:',acc)"
   ]
  },
  {
   "cell_type": "code",
   "execution_count": 41,
   "metadata": {},
   "outputs": [
    {
     "name": "stdout",
     "output_type": "stream",
     "text": [
      "Accuracy: 96.7741935483871\n"
     ]
    }
   ],
   "source": [
    "# create the sub models\n",
    "estimators = []\n",
    "model = LogisticRegression(max_iter=500)\n",
    "estimators.append(('logistic', model))\n",
    "model = AdaBoostClassifier(n_estimators=num_trees, random_state=seed)\n",
    "estimators.append(('boosting', model))\n",
    "model = SVC()\n",
    "estimators.append(('svm', model))\n",
    "\n",
    "# create the ensemble model\n",
    "ensemble = VotingClassifier(estimators)\n",
    "ensemble.fit(X_train,Y_train)\n",
    "y_pred = ensemble.predict(X_test)\n",
    "acc = accuracy_score(Y_test, y_pred)*100\n",
    "print('Accuracy:',acc)"
   ]
  },
  {
   "cell_type": "code",
   "execution_count": 42,
   "metadata": {},
   "outputs": [
    {
     "name": "stdout",
     "output_type": "stream",
     "text": [
      "Accuracy: 87.09677419354838\n"
     ]
    }
   ],
   "source": [
    "# create the sub models\n",
    "estimators = []\n",
    "model = LogisticRegression(max_iter=500)\n",
    "estimators.append(('logistic', model))\n",
    "model = AdaBoostClassifier(n_estimators=num_trees, random_state=seed)\n",
    "estimators.append(('boosting', model))\n",
    "\n",
    "\n",
    "# create the ensemble model\n",
    "ensemble = VotingClassifier(estimators)\n",
    "ensemble.fit(X_train,Y_train)\n",
    "y_pred = ensemble.predict(X_test)\n",
    "acc = accuracy_score(Y_test, y_pred)*100\n",
    "print('Accuracy:',acc)"
   ]
  },
  {
   "cell_type": "code",
   "execution_count": 43,
   "metadata": {},
   "outputs": [
    {
     "name": "stdout",
     "output_type": "stream",
     "text": [
      "Accuracy: 90.32258064516128\n"
     ]
    }
   ],
   "source": [
    "# create the sub models\n",
    "estimators = []\n",
    "model = LogisticRegression(max_iter=500)\n",
    "estimators.append(('logistic', model))\n",
    "model = SVC()\n",
    "estimators.append(('svm', model))\n",
    "\n",
    "# create the ensemble model\n",
    "ensemble = VotingClassifier(estimators)\n",
    "ensemble.fit(X_train,Y_train)\n",
    "y_pred = ensemble.predict(X_test)\n",
    "acc = accuracy_score(Y_test, y_pred)*100\n",
    "print('Accuracy:',acc)"
   ]
  },
  {
   "cell_type": "markdown",
   "metadata": {},
   "source": [
    "### Hence we finalised SVM model on the basis of model accuracy"
   ]
  }
 ],
 "metadata": {
  "kernelspec": {
   "display_name": "Python 3",
   "language": "python",
   "name": "python3"
  },
  "language_info": {
   "codemirror_mode": {
    "name": "ipython",
    "version": 3
   },
   "file_extension": ".py",
   "mimetype": "text/x-python",
   "name": "python",
   "nbconvert_exporter": "python",
   "pygments_lexer": "ipython3",
   "version": "3.8.5"
  }
 },
 "nbformat": 4,
 "nbformat_minor": 4
}
